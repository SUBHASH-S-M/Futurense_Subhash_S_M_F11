{
 "cells": [
  {
   "cell_type": "code",
   "execution_count": 11,
   "id": "b199fed9",
   "metadata": {},
   "outputs": [],
   "source": [
    "import time\n",
    "import numpy as np\n",
    "import datetime\n",
    "import pandas as pd\n",
    "#considering as a parent class\n",
    "class Company():\n",
    "    def __init__(self,company,student_id,batch_id,name,phone_number,email_id):\n",
    "        self.company=company\n",
    "        self.student_id=student_id\n",
    "        self.batch_id=batch_id\n",
    "        self.name=name\n",
    "        self.__phone_number=phone_number\n",
    "        self.__email_id=email_id\n",
    "    def get_email(self):\n",
    "        return self.__email_id\n",
    "    def get_phone(self):\n",
    "        return self.__phone_number\n",
    "    def set_email_id(self,email_id):\n",
    "        self.__email_id=email_id\n",
    "    def set_phone_number(self,phone_num):\n",
    "        self.__phone_number=phone_num\n",
    "    @staticmethod\n",
    "    def welcome_mesage(name):\n",
    "        print(\"----------------------\")\n",
    "        print(f\"Welcome {name} , Explore the Futurense MIS portal\")\n",
    "        print(\"----------------------\")\n",
    "        time.sleep(2)\n",
    "        \n",
    "        \n",
    "        \n",
    "#considering as a child class\n",
    "        \n",
    "class report_card(Company):\n",
    "    def __init__(self,company,student_id,batch_id,name,phone_number,email_id,marks):\n",
    "        super().__init__(company,student_id,batch_id,name,phone_number,email_id)\n",
    "\n",
    "        self.marks=marks\n",
    "    def generate_progress_card(self):\n",
    "        self.percentage={}\n",
    "        for i in sorted(self.marks):\n",
    "            self.percentage[i]=(self.marks[i][0]/self.marks[i][1])*100\n",
    "        self.current_time = datetime.datetime.now()\n",
    "    def display_progress_card(self):\n",
    "        arr_total=[]\n",
    "        print(f\"Progress Card Generated on {self.current_time}\")\n",
    "        print(\"Student Name : \", self.name)\n",
    "        print(\"Student Id :\", self.student_id)\n",
    "        for i in sorted(self.percentage):\n",
    "            val_per=\"%0.2f\"%(self.percentage[i])\n",
    "            print(f\"Test_name:{i} Percentage Score:{val_per}\")\n",
    "            arr_total.append(float(val_per))\n",
    "\n",
    "        arr_total = np.array(arr_total)\n",
    "        avg_percentage = np.mean(arr_total)\n",
    "        max_percentage = np.max(arr_total)\n",
    "        min_percentage = np.min(arr_total)\n",
    "\n",
    "        print(f\"Performance Score (out of 100) :\",avg_percentage)\n",
    "        print(f\"Best Score :\",max_percentage)\n",
    "        print(f\"Least Score : \",min_percentage)\n",
    "        print(\"------------------------------\")\n",
    "        time.sleep(2)\n",
    "        return (self.name,avg_percentage,max_percentage,min_percentage,pd.datetime.now().date())\n",
    "\n"
   ]
  },
  {
   "cell_type": "code",
   "execution_count": null,
   "id": "2b831e8f",
   "metadata": {},
   "outputs": [],
   "source": []
  },
  {
   "cell_type": "code",
   "execution_count": 12,
   "id": "004de9d0",
   "metadata": {},
   "outputs": [],
   "source": [
    "#arrya of objects\n",
    "student_detials=[(\"Futurense\",\"FT-376\",\"F11\",\"subhash\",\"9442699741\",\"smsubhashrasi@futurense.com\",\n",
    "                     {'test_id_1':[20,30],'test_id_2':[44,45],'test_id_3':[30,45]}),\n",
    "                 (\"Futurense\", \"FT-456\", \"F11\", \"Vaibhav\", \"8835679606\", \"excel_vaibhav@futurense.com\",\n",
    "                  {'test_id_1': [25, 30], 'test_id_2': [45, 45], 'test_id_3': [40, 45]})\n",
    "                 ]\n",
    "\n",
    "\n"
   ]
  },
  {
   "cell_type": "code",
   "execution_count": 3,
   "id": "84cd9ede",
   "metadata": {},
   "outputs": [
    {
     "name": "stdout",
     "output_type": "stream",
     "text": [
      "Enter u r name:\n",
      "subhash\n",
      "----------------------\n",
      "Welcome subhash , Explore the Futurense MIS portal\n",
      "----------------------\n",
      "Progress Card Generated on 2022-05-16 14:40:36.188814\n",
      "Student Name :  subhash\n",
      "Student Id : FT-376\n",
      "Test_name:test_id_1 Percentage Score:66.67\n",
      "Test_name:test_id_2 Percentage Score:97.78\n",
      "Test_name:test_id_3 Percentage Score:66.67\n",
      "Performance Score (out of 100) : 77.04\n",
      "Best Score : 97.78\n",
      "Least Score :  66.67\n",
      "------------------------------\n"
     ]
    },
    {
     "name": "stderr",
     "output_type": "stream",
     "text": [
      "C:\\Users\\FUTURE~1\\AppData\\Local\\Temp/ipykernel_21872/2812620086.py:58: FutureWarning: The pandas.datetime class is deprecated and will be removed from pandas in a future version. Import from datetime module instead.\n",
      "  return (self.name,avg_percentage,max_percentage,min_percentage,pd.datetime.now().date())\n"
     ]
    },
    {
     "name": "stdout",
     "output_type": "stream",
     "text": [
      "Progress Card Generated on 2022-05-16 14:40:38.192853\n",
      "Student Name :  Vaibhav\n",
      "Student Id : FT-456\n",
      "Test_name:test_id_1 Percentage Score:83.33\n",
      "Test_name:test_id_2 Percentage Score:100.00\n",
      "Test_name:test_id_3 Percentage Score:88.89\n",
      "Performance Score (out of 100) : 90.74\n",
      "Best Score : 100.0\n",
      "Least Score :  83.33\n",
      "------------------------------\n"
     ]
    }
   ],
   "source": [
    "print(\"Enter u r name:\")\n",
    "name=input()\n",
    "Company.welcome_mesage(name)\n",
    "\n",
    "obj_ref=[]\n",
    "details=[]\n",
    "for i in range(len(student_detials)):\n",
    "    obj_ref.append(report_card(*student_detials[i]))\n",
    "    obj_ref[i].generate_progress_card()\n",
    "    detail=obj_ref[i].display_progress_card()\n",
    "    details.append(detail)\n",
    "\n",
    "\n",
    "\n",
    "\n"
   ]
  },
  {
   "cell_type": "code",
   "execution_count": 4,
   "id": "905eaca5",
   "metadata": {},
   "outputs": [
    {
     "name": "stdout",
     "output_type": "stream",
     "text": [
      "  Student_name  Peformance Score  Best Score  Least Score  \\\n",
      "0      subhash             77.04       97.78        66.67   \n",
      "1      Vaibhav             90.74      100.00        83.33   \n",
      "\n",
      "  Report Generated Time  \n",
      "0            2022-05-16  \n",
      "1            2022-05-16  \n"
     ]
    }
   ],
   "source": [
    "df = pd.DataFrame(details, columns =['Student_name','Peformance Score','Best Score','Least Score','Report Generated Time'])\n",
    "print(df)\n",
    "\n"
   ]
  },
  {
   "cell_type": "code",
   "execution_count": 5,
   "id": "3b9a72ba",
   "metadata": {},
   "outputs": [],
   "source": [
    "df.to_csv(\"Progress_Report.csv\")"
   ]
  },
  {
   "cell_type": "code",
   "execution_count": 10,
   "id": "bf1bb175",
   "metadata": {},
   "outputs": [],
   "source": [
    "#pandas functions\n"
   ]
  },
  {
   "cell_type": "code",
   "execution_count": 13,
   "id": "6fc30ffa",
   "metadata": {},
   "outputs": [
    {
     "name": "stdout",
     "output_type": "stream",
     "text": [
      "<class 'pandas.core.frame.DataFrame'>\n",
      "RangeIndex: 2 entries, 0 to 1\n",
      "Data columns (total 5 columns):\n",
      " #   Column                 Non-Null Count  Dtype  \n",
      "---  ------                 --------------  -----  \n",
      " 0   Student_name           2 non-null      object \n",
      " 1   Peformance Score       2 non-null      float64\n",
      " 2   Best Score             2 non-null      float64\n",
      " 3   Least Score            2 non-null      float64\n",
      " 4   Report Generated Time  2 non-null      object \n",
      "dtypes: float64(3), object(2)\n",
      "memory usage: 208.0+ bytes\n"
     ]
    }
   ],
   "source": [
    "df.info()"
   ]
  },
  {
   "cell_type": "code",
   "execution_count": 14,
   "id": "477c3d8b",
   "metadata": {},
   "outputs": [
    {
     "data": {
      "text/html": [
       "<div>\n",
       "<style scoped>\n",
       "    .dataframe tbody tr th:only-of-type {\n",
       "        vertical-align: middle;\n",
       "    }\n",
       "\n",
       "    .dataframe tbody tr th {\n",
       "        vertical-align: top;\n",
       "    }\n",
       "\n",
       "    .dataframe thead th {\n",
       "        text-align: right;\n",
       "    }\n",
       "</style>\n",
       "<table border=\"1\" class=\"dataframe\">\n",
       "  <thead>\n",
       "    <tr style=\"text-align: right;\">\n",
       "      <th></th>\n",
       "      <th>Peformance Score</th>\n",
       "      <th>Best Score</th>\n",
       "      <th>Least Score</th>\n",
       "    </tr>\n",
       "  </thead>\n",
       "  <tbody>\n",
       "    <tr>\n",
       "      <th>count</th>\n",
       "      <td>2.000000</td>\n",
       "      <td>2.000000</td>\n",
       "      <td>2.000000</td>\n",
       "    </tr>\n",
       "    <tr>\n",
       "      <th>mean</th>\n",
       "      <td>83.890000</td>\n",
       "      <td>98.890000</td>\n",
       "      <td>75.000000</td>\n",
       "    </tr>\n",
       "    <tr>\n",
       "      <th>std</th>\n",
       "      <td>9.687363</td>\n",
       "      <td>1.569777</td>\n",
       "      <td>11.780399</td>\n",
       "    </tr>\n",
       "    <tr>\n",
       "      <th>min</th>\n",
       "      <td>77.040000</td>\n",
       "      <td>97.780000</td>\n",
       "      <td>66.670000</td>\n",
       "    </tr>\n",
       "    <tr>\n",
       "      <th>25%</th>\n",
       "      <td>80.465000</td>\n",
       "      <td>98.335000</td>\n",
       "      <td>70.835000</td>\n",
       "    </tr>\n",
       "    <tr>\n",
       "      <th>50%</th>\n",
       "      <td>83.890000</td>\n",
       "      <td>98.890000</td>\n",
       "      <td>75.000000</td>\n",
       "    </tr>\n",
       "    <tr>\n",
       "      <th>75%</th>\n",
       "      <td>87.315000</td>\n",
       "      <td>99.445000</td>\n",
       "      <td>79.165000</td>\n",
       "    </tr>\n",
       "    <tr>\n",
       "      <th>max</th>\n",
       "      <td>90.740000</td>\n",
       "      <td>100.000000</td>\n",
       "      <td>83.330000</td>\n",
       "    </tr>\n",
       "  </tbody>\n",
       "</table>\n",
       "</div>"
      ],
      "text/plain": [
       "       Peformance Score  Best Score  Least Score\n",
       "count          2.000000    2.000000     2.000000\n",
       "mean          83.890000   98.890000    75.000000\n",
       "std            9.687363    1.569777    11.780399\n",
       "min           77.040000   97.780000    66.670000\n",
       "25%           80.465000   98.335000    70.835000\n",
       "50%           83.890000   98.890000    75.000000\n",
       "75%           87.315000   99.445000    79.165000\n",
       "max           90.740000  100.000000    83.330000"
      ]
     },
     "execution_count": 14,
     "metadata": {},
     "output_type": "execute_result"
    }
   ],
   "source": [
    "df.describe()"
   ]
  },
  {
   "cell_type": "code",
   "execution_count": null,
   "id": "d72ba3d2",
   "metadata": {},
   "outputs": [],
   "source": []
  }
 ],
 "metadata": {
  "kernelspec": {
   "display_name": "Python 3 (ipykernel)",
   "language": "python",
   "name": "python3"
  },
  "language_info": {
   "codemirror_mode": {
    "name": "ipython",
    "version": 3
   },
   "file_extension": ".py",
   "mimetype": "text/x-python",
   "name": "python",
   "nbconvert_exporter": "python",
   "pygments_lexer": "ipython3",
   "version": "3.9.7"
  }
 },
 "nbformat": 4,
 "nbformat_minor": 5
}
