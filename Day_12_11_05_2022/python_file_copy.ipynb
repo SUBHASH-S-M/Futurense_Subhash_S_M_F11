{
 "cells": [
  {
   "cell_type": "code",
   "execution_count": 24,
   "id": "c624e134",
   "metadata": {},
   "outputs": [],
   "source": [
    "import tkinter\n",
    "from tkinter import filedialog\n",
    "from tkinter import *\n",
    "import os\n",
    "import shutil\n",
    "\n",
    "#Tkinter window withdrawl\n",
    "root = Tk()\n",
    "root.withdraw()\n",
    "file=list(filedialog.askopenfilenames())\n",
    "output_folder_selected = filedialog.askdirectory()\n",
    "for i in file:\n",
    "    print(i)\n",
    "    shutil.copy2(i,output_folder_selected)"
   ]
  },
  {
   "cell_type": "code",
   "execution_count": 29,
   "id": "8c1b6574",
   "metadata": {},
   "outputs": [],
   "source": [
    "import socket\n",
    "import tqdm\n",
    "import os\n",
    "\n",
    "SEPARATOR = \"<SEPARATOR>\"\n",
    "BUFFER_SIZE = 4096 # send 4096 bytes each time step\n",
    "# the ip address or hostname of the server, the receiver\n",
    "host = \"192.168.1.101\"\n",
    "# the port, let's use 5001\n",
    "port = 5001\n",
    "# the name of file we want to send, make sure it exists\n",
    "filename = \"data.csv\"\n",
    "# get the file size\n",
    "filesize = os.path.getsize(filename)\n",
    "# create the client socket\n",
    "s = socket.socket()\n",
    "print(f\"[+] Connecting to {host}:{port}\")\n",
    "s.connect((host, port))\n",
    "print(\"[+] Connected.\")\n",
    "# send the filename and filesize\n",
    "s.send(f\"{filename}{SEPARATOR}{filesize}\".encode())\n",
    "# start sending the file\n",
    "progress = tqdm.tqdm(range(filesize), f\"Sending {filename}\", unit=\"B\", unit_scale=True, unit_divisor=1024)\n",
    "with open(filename, \"rb\") as f:\n",
    "    while True:\n",
    "        # read the bytes from the file\n",
    "        bytes_read = f.read(BUFFER_SIZE)\n",
    "        if not bytes_read:\n",
    "            # file transmitting is done\n",
    "            break\n",
    "        # we use sendall to assure transimission in \n",
    "        # busy networks\n",
    "        s.sendall(bytes_read)\n",
    "        # update the progress bar\n",
    "        progress.update(len(bytes_read))\n",
    "# close the socket\n",
    "s.close()\n"
   ]
  },
  {
   "cell_type": "code",
   "execution_count": null,
   "id": "443e966f",
   "metadata": {},
   "outputs": [],
   "source": [
    "import socket\n",
    "import tqdm\n",
    "import os\n",
    "# device's IP address\n",
    "SERVER_HOST = \"0.0.0.0\"\n",
    "SERVER_PORT = 5001\n",
    "# receive 4096 bytes each time\n",
    "BUFFER_SIZE = 4096\n",
    "SEPARATOR = \"<SEPARATOR>\"\n",
    "# create the server socket\n",
    "# TCP socket\n",
    "s = socket.socket()\n",
    "# bind the socket to our local address\n",
    "s.bind((SERVER_HOST, SERVER_PORT))# enabling our server to accept connections\n",
    "# 5 here is the number of unaccepted connections that\n",
    "# the system will allow before refusing new connections\n",
    "s.listen(5)\n",
    "print(f\"[*] Listening as {SERVER_HOST}:{SERVER_PORT}\")\n",
    "# receive the file infos\n",
    "# receive using client socket, not server socket\n",
    "received = client_socket.recv(BUFFER_SIZE).decode()\n",
    "filename, filesize = received.split(SEPARATOR)\n",
    "# remove absolute path if there is\n",
    "filename = os.path.basename(filename)\n",
    "# convert to integer\n",
    "filesize = int(filesize)"
   ]
  },
  {
   "cell_type": "code",
   "execution_count": null,
   "id": "408a5a51",
   "metadata": {},
   "outputs": [],
   "source": []
  }
 ],
 "metadata": {
  "kernelspec": {
   "display_name": "Python 3 (ipykernel)",
   "language": "python",
   "name": "python3"
  },
  "language_info": {
   "codemirror_mode": {
    "name": "ipython",
    "version": 3
   },
   "file_extension": ".py",
   "mimetype": "text/x-python",
   "name": "python",
   "nbconvert_exporter": "python",
   "pygments_lexer": "ipython3",
   "version": "3.9.7"
  }
 },
 "nbformat": 4,
 "nbformat_minor": 5
}
