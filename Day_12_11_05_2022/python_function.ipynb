{
 "cells": [
  {
   "cell_type": "code",
   "execution_count": 1,
   "id": "7f8a3c67",
   "metadata": {},
   "outputs": [],
   "source": [
    "#len to count number of char including spaces\n"
   ]
  },
  {
   "cell_type": "code",
   "execution_count": 2,
   "id": "c0a55d14",
   "metadata": {},
   "outputs": [
    {
     "data": {
      "text/plain": [
       "['__add__',\n",
       " '__class__',\n",
       " '__contains__',\n",
       " '__delattr__',\n",
       " '__dir__',\n",
       " '__doc__',\n",
       " '__eq__',\n",
       " '__format__',\n",
       " '__ge__',\n",
       " '__getattribute__',\n",
       " '__getitem__',\n",
       " '__getnewargs__',\n",
       " '__gt__',\n",
       " '__hash__',\n",
       " '__init__',\n",
       " '__init_subclass__',\n",
       " '__iter__',\n",
       " '__le__',\n",
       " '__len__',\n",
       " '__lt__',\n",
       " '__mod__',\n",
       " '__mul__',\n",
       " '__ne__',\n",
       " '__new__',\n",
       " '__reduce__',\n",
       " '__reduce_ex__',\n",
       " '__repr__',\n",
       " '__rmod__',\n",
       " '__rmul__',\n",
       " '__setattr__',\n",
       " '__sizeof__',\n",
       " '__str__',\n",
       " '__subclasshook__',\n",
       " 'capitalize',\n",
       " 'casefold',\n",
       " 'center',\n",
       " 'count',\n",
       " 'encode',\n",
       " 'endswith',\n",
       " 'expandtabs',\n",
       " 'find',\n",
       " 'format',\n",
       " 'format_map',\n",
       " 'index',\n",
       " 'isalnum',\n",
       " 'isalpha',\n",
       " 'isascii',\n",
       " 'isdecimal',\n",
       " 'isdigit',\n",
       " 'isidentifier',\n",
       " 'islower',\n",
       " 'isnumeric',\n",
       " 'isprintable',\n",
       " 'isspace',\n",
       " 'istitle',\n",
       " 'isupper',\n",
       " 'join',\n",
       " 'ljust',\n",
       " 'lower',\n",
       " 'lstrip',\n",
       " 'maketrans',\n",
       " 'partition',\n",
       " 'removeprefix',\n",
       " 'removesuffix',\n",
       " 'replace',\n",
       " 'rfind',\n",
       " 'rindex',\n",
       " 'rjust',\n",
       " 'rpartition',\n",
       " 'rsplit',\n",
       " 'rstrip',\n",
       " 'split',\n",
       " 'splitlines',\n",
       " 'startswith',\n",
       " 'strip',\n",
       " 'swapcase',\n",
       " 'title',\n",
       " 'translate',\n",
       " 'upper',\n",
       " 'zfill']"
      ]
     },
     "execution_count": 2,
     "metadata": {},
     "output_type": "execute_result"
    }
   ],
   "source": [
    "var='dhoni mssd'\n",
    "dir(var)"
   ]
  },
  {
   "cell_type": "code",
   "execution_count": 4,
   "id": "1b4bf320",
   "metadata": {},
   "outputs": [
    {
     "name": "stdout",
     "output_type": "stream",
     "text": [
      "('dhoni',)\n"
     ]
    }
   ],
   "source": [
    "var=\"dhoni\",'msd'\n",
    "print(var)"
   ]
  },
  {
   "cell_type": "code",
   "execution_count": 5,
   "id": "c248f0e5",
   "metadata": {},
   "outputs": [
    {
     "name": "stdout",
     "output_type": "stream",
     "text": [
      "('dhoni',)\n"
     ]
    }
   ],
   "source": [
    "var=\"dhoni\",\n",
    "print(var)"
   ]
  },
  {
   "cell_type": "code",
   "execution_count": 8,
   "id": "22974281",
   "metadata": {},
   "outputs": [
    {
     "data": {
      "text/plain": [
       "'dhonicsk'"
      ]
     },
     "execution_count": 8,
     "metadata": {},
     "output_type": "execute_result"
    }
   ],
   "source": [
    "var=\"dhoni\"'csk'  #start end double code and starting another single quotes so its a string\n",
    "var"
   ]
  },
  {
   "cell_type": "code",
   "execution_count": 9,
   "id": "d6235a92",
   "metadata": {},
   "outputs": [
    {
     "data": {
      "text/plain": [
       "\"dhoni'csk\""
      ]
     },
     "execution_count": 9,
     "metadata": {},
     "output_type": "execute_result"
    }
   ],
   "source": [
    "var=\"dhoni'csk\"  #start end double code and starting another single quotes so its a string\n",
    "var"
   ]
  },
  {
   "cell_type": "code",
   "execution_count": 25,
   "id": "828b50db",
   "metadata": {},
   "outputs": [],
   "source": [
    "var=\"dhoni \\\n",
    "csk\"\n"
   ]
  },
  {
   "cell_type": "code",
   "execution_count": 26,
   "id": "c0840d56",
   "metadata": {},
   "outputs": [
    {
     "data": {
      "text/plain": [
       "'dhoni csk'"
      ]
     },
     "execution_count": 26,
     "metadata": {},
     "output_type": "execute_result"
    }
   ],
   "source": [
    "var"
   ]
  },
  {
   "cell_type": "code",
   "execution_count": 32,
   "id": "a60f535c",
   "metadata": {},
   "outputs": [
    {
     "data": {
      "text/plain": [
       "'c:\\\\newfolder\\\\testing.txt'"
      ]
     },
     "execution_count": 32,
     "metadata": {},
     "output_type": "execute_result"
    }
   ],
   "source": [
    "path=r\"c:\\newfolder\\testing.txt\"\n",
    "path\n",
    "#r--raw data, carraige return"
   ]
  },
  {
   "cell_type": "code",
   "execution_count": 33,
   "id": "e56c9b8e",
   "metadata": {},
   "outputs": [
    {
     "data": {
      "text/plain": [
       "'my captain dhoni plays at a age : 33'"
      ]
     },
     "execution_count": 33,
     "metadata": {},
     "output_type": "execute_result"
    }
   ],
   "source": [
    "string_input=\"my captain %s plays at a age : %d\"%(\"dhoni\",33)\n",
    "string_input"
   ]
  },
  {
   "cell_type": "code",
   "execution_count": 34,
   "id": "8ea2142d",
   "metadata": {},
   "outputs": [
    {
     "data": {
      "text/plain": [
       "'my captain dhoni plays at a age :33'"
      ]
     },
     "execution_count": 34,
     "metadata": {},
     "output_type": "execute_result"
    }
   ],
   "source": [
    "name='dhoni'\n",
    "age=33\n",
    "string_input=f\"my captain {name} plays at a age :{age}\"\n",
    "string_input"
   ]
  },
  {
   "cell_type": "code",
   "execution_count": 35,
   "id": "9429ebc9",
   "metadata": {},
   "outputs": [],
   "source": [
    "#attribute magic or deunder\n",
    "#__iter__ a loop that happens one after the other (hold the state of the travellled letter)\n",
    "for x in \"subhash\":\n",
    "    print(x,end='')\n",
    "    #__next__"
   ]
  },
  {
   "cell_type": "code",
   "execution_count": 39,
   "id": "9e5200bd",
   "metadata": {},
   "outputs": [
    {
     "name": "stdout",
     "output_type": "stream",
     "text": [
      "d k\n",
      "h o\n",
      "o l\n",
      "n h\n",
      "i i\n"
     ]
    }
   ],
   "source": [
    "name=\"dhoni\"\n",
    "name1=\"kolhi\"\n",
    "#zip-->wprks for sequnrtial data lis,tuple,str etc\n",
    "for x,y in zip(name,name1):\n",
    "    print(x,y)"
   ]
  },
  {
   "cell_type": "markdown",
   "id": "c2bcb1f5",
   "metadata": {},
   "source": [
    "# generator"
   ]
  },
  {
   "cell_type": "code",
   "execution_count": 46,
   "id": "090b3d2e",
   "metadata": {},
   "outputs": [
    {
     "data": {
      "text/plain": [
       "<str_iterator at 0x2c5f4b486d0>"
      ]
     },
     "execution_count": 46,
     "metadata": {},
     "output_type": "execute_result"
    }
   ],
   "source": [
    "name=\"dhoni\"\n",
    "name1=\"kolhi\"\n",
    "output=iter(name) # same as for looop does\n",
    "output"
   ]
  },
  {
   "cell_type": "code",
   "execution_count": 47,
   "id": "7204a9ab",
   "metadata": {},
   "outputs": [
    {
     "data": {
      "text/plain": [
       "'d'"
      ]
     },
     "execution_count": 47,
     "metadata": {},
     "output_type": "execute_result"
    }
   ],
   "source": [
    "next(output)"
   ]
  },
  {
   "cell_type": "code",
   "execution_count": 48,
   "id": "89a376fc",
   "metadata": {},
   "outputs": [
    {
     "data": {
      "text/plain": [
       "'h'"
      ]
     },
     "execution_count": 48,
     "metadata": {},
     "output_type": "execute_result"
    }
   ],
   "source": [
    "next(output)"
   ]
  },
  {
   "cell_type": "code",
   "execution_count": 52,
   "id": "231f891d",
   "metadata": {},
   "outputs": [
    {
     "data": {
      "text/plain": [
       "[('d', 'k'), ('h', 'o'), ('o', 'l'), ('n', 'h'), ('i', 'i')]"
      ]
     },
     "execution_count": 52,
     "metadata": {},
     "output_type": "execute_result"
    }
   ],
   "source": [
    "name=\"dhoni\"\n",
    "name1=\"kolhi\"\n",
    "output=list(iter(zip(name,name1))) # same as for looop does\n",
    "output"
   ]
  },
  {
   "cell_type": "code",
   "execution_count": 53,
   "id": "94826714",
   "metadata": {},
   "outputs": [
    {
     "data": {
      "text/plain": [
       "[('dhoni', 'kolhi')]"
      ]
     },
     "execution_count": 53,
     "metadata": {},
     "output_type": "execute_result"
    }
   ],
   "source": [
    "name=[\"dhoni\"]\n",
    "name1=[\"kolhi\"]\n",
    "output=list(iter(zip(name,name1))) # same as for looop does\n",
    "output"
   ]
  },
  {
   "cell_type": "code",
   "execution_count": 54,
   "id": "e757da05",
   "metadata": {},
   "outputs": [],
   "source": [
    "#iter(takes 1 input to ber iterated similar to for loop)"
   ]
  },
  {
   "cell_type": "code",
   "execution_count": 56,
   "id": "2119f766",
   "metadata": {},
   "outputs": [
    {
     "name": "stdout",
     "output_type": "stream",
     "text": [
      "0 d\n",
      "1 h\n",
      "2 o\n",
      "3 n\n",
      "4 i\n",
      "5  \n",
      "6 i\n",
      "7 s\n",
      "8  \n",
      "9 m\n",
      "10 y\n",
      "11  \n",
      "12 c\n",
      "13 a\n",
      "14 p\n",
      "15 t\n",
      "16 a\n",
      "17 i\n",
      "18 n\n"
     ]
    }
   ],
   "source": [
    "var=\"dhoni is my captain\"\n",
    "#enum is used to return data with the index\n",
    "for index,data in enumerate(var):\n",
    "    print(index,data)"
   ]
  },
  {
   "cell_type": "code",
   "execution_count": 59,
   "id": "49a6eaa8",
   "metadata": {},
   "outputs": [
    {
     "name": "stdout",
     "output_type": "stream",
     "text": [
      "0\n",
      "1\n",
      "2\n",
      "3\n",
      "4\n",
      "5\n",
      "6\n",
      "7\n",
      "8\n",
      "9\n",
      "10\n",
      "11\n",
      "12\n",
      "13\n",
      "14\n",
      "15\n",
      "16\n",
      "17\n",
      "18\n"
     ]
    }
   ],
   "source": [
    "var=\"dhoni is my captain\"         #if i doenst req any aprmteter then we can skip that by putting undersocre so we can save memory\n",
    "#enum is used to return data with the index\n",
    "for index,_ in enumerate(var):\n",
    "    print(index)\n",
    "# in index data is stored for all letters \n",
    "# in _ it sotres all char in same object no different object for all char"
   ]
  },
  {
   "cell_type": "code",
   "execution_count": 61,
   "id": "8b0e1986",
   "metadata": {},
   "outputs": [],
   "source": [
    "#literals of memory dosnet occupy memory in python  _\n"
   ]
  },
  {
   "cell_type": "code",
   "execution_count": 66,
   "id": "2b08665c",
   "metadata": {},
   "outputs": [],
   "source": [
    "\n",
    "for i in range(1,10,-1):\n",
    "    print(i)\n",
    "    "
   ]
  },
  {
   "cell_type": "code",
   "execution_count": 68,
   "id": "dc92cbf4",
   "metadata": {},
   "outputs": [
    {
     "ename": "NameError",
     "evalue": "name 'xrange' is not defined",
     "output_type": "error",
     "traceback": [
      "\u001b[1;31m---------------------------------------------------------------------------\u001b[0m",
      "\u001b[1;31mNameError\u001b[0m                                 Traceback (most recent call last)",
      "\u001b[1;32mC:\\Users\\FUTURE~1\\AppData\\Local\\Temp/ipykernel_7616/4115791584.py\u001b[0m in \u001b[0;36m<module>\u001b[1;34m\u001b[0m\n\u001b[1;32m----> 1\u001b[1;33m \u001b[0mval\u001b[0m\u001b[1;33m=\u001b[0m\u001b[0mxrange\u001b[0m\u001b[1;33m(\u001b[0m\u001b[1;36m1\u001b[0m\u001b[1;33m,\u001b[0m\u001b[1;36m10\u001b[0m\u001b[1;33m)\u001b[0m\u001b[1;33m\u001b[0m\u001b[1;33m\u001b[0m\u001b[0m\n\u001b[0m\u001b[0;32m      2\u001b[0m \u001b[0mprint\u001b[0m\u001b[1;33m(\u001b[0m\u001b[0mval\u001b[0m\u001b[1;33m)\u001b[0m\u001b[1;33m\u001b[0m\u001b[1;33m\u001b[0m\u001b[0m\n",
      "\u001b[1;31mNameError\u001b[0m: name 'xrange' is not defined"
     ]
    }
   ],
   "source": [
    "val=xrange(1,10)\n",
    "print(val)"
   ]
  },
  {
   "cell_type": "code",
   "execution_count": 81,
   "id": "aa178ca8",
   "metadata": {},
   "outputs": [
    {
     "name": "stdout",
     "output_type": "stream",
     "text": [
      "5\n",
      "35\n"
     ]
    }
   ],
   "source": [
    "import random\n",
    "start=1\n",
    "stop=50\n",
    "step=2\n",
    "val=random.randrange(start, stop,step)\n",
    "print(val)\n",
    "val2=random.randrange(start, stop,step)\n",
    "print(val2)"
   ]
  },
  {
   "cell_type": "code",
   "execution_count": 82,
   "id": "c2a92d69",
   "metadata": {},
   "outputs": [],
   "source": [
    "#range vs xrange"
   ]
  },
  {
   "cell_type": "code",
   "execution_count": null,
   "id": "8acc5b5f",
   "metadata": {},
   "outputs": [],
   "source": [
    "random.randrange"
   ]
  }
 ],
 "metadata": {
  "kernelspec": {
   "display_name": "Python 3 (ipykernel)",
   "language": "python",
   "name": "python3"
  },
  "language_info": {
   "codemirror_mode": {
    "name": "ipython",
    "version": 3
   },
   "file_extension": ".py",
   "mimetype": "text/x-python",
   "name": "python",
   "nbconvert_exporter": "python",
   "pygments_lexer": "ipython3",
   "version": "3.9.7"
  }
 },
 "nbformat": 4,
 "nbformat_minor": 5
}
