{
 "cells": [
  {
   "cell_type": "code",
   "execution_count": 1,
   "id": "e8736ddd",
   "metadata": {},
   "outputs": [
    {
     "name": "stdout",
     "output_type": "stream",
     "text": [
      "['dhoni', 'vaibhav']\n"
     ]
    }
   ],
   "source": [
    "var=['dhoni']\n",
    "pla=['vaibhav']\n",
    "print(var+pla)"
   ]
  },
  {
   "cell_type": "code",
   "execution_count": 3,
   "id": "3a84e4e6",
   "metadata": {},
   "outputs": [
    {
     "data": {
      "text/plain": [
       "[0, 1, 'far_data']"
      ]
     },
     "execution_count": 3,
     "metadata": {},
     "output_type": "execute_result"
    }
   ],
   "source": [
    "var=[0,1]\n",
    "# try to insert the data far away from contents\n",
    "pos=6\n",
    "content=\"far_data\"\n",
    "var.insert(pos,content)\n",
    "var  # data is inserted in the last index of the list"
   ]
  },
  {
   "cell_type": "code",
   "execution_count": 4,
   "id": "eff7eac3",
   "metadata": {},
   "outputs": [
    {
     "data": {
      "text/plain": [
       "['__add__',\n",
       " '__class__',\n",
       " '__class_getitem__',\n",
       " '__contains__',\n",
       " '__delattr__',\n",
       " '__delitem__',\n",
       " '__dir__',\n",
       " '__doc__',\n",
       " '__eq__',\n",
       " '__format__',\n",
       " '__ge__',\n",
       " '__getattribute__',\n",
       " '__getitem__',\n",
       " '__gt__',\n",
       " '__hash__',\n",
       " '__iadd__',\n",
       " '__imul__',\n",
       " '__init__',\n",
       " '__init_subclass__',\n",
       " '__iter__',\n",
       " '__le__',\n",
       " '__len__',\n",
       " '__lt__',\n",
       " '__mul__',\n",
       " '__ne__',\n",
       " '__new__',\n",
       " '__reduce__',\n",
       " '__reduce_ex__',\n",
       " '__repr__',\n",
       " '__reversed__',\n",
       " '__rmul__',\n",
       " '__setattr__',\n",
       " '__setitem__',\n",
       " '__sizeof__',\n",
       " '__str__',\n",
       " '__subclasshook__',\n",
       " 'append',\n",
       " 'clear',\n",
       " 'copy',\n",
       " 'count',\n",
       " 'extend',\n",
       " 'index',\n",
       " 'insert',\n",
       " 'pop',\n",
       " 'remove',\n",
       " 'reverse',\n",
       " 'sort']"
      ]
     },
     "execution_count": 4,
     "metadata": {},
     "output_type": "execute_result"
    }
   ],
   "source": [
    "dir(list)"
   ]
  },
  {
   "cell_type": "code",
   "execution_count": 6,
   "id": "bcad0145",
   "metadata": {},
   "outputs": [
    {
     "data": {
      "text/plain": [
       "['dhoni', 'kolhi', 'raina', 'sibil']"
      ]
     },
     "execution_count": 6,
     "metadata": {},
     "output_type": "execute_result"
    }
   ],
   "source": [
    "main_list=['dhoni','kolhi']\n",
    "sub=[\"raina\",'sibil']\n",
    "main_list.extend(sub)\n",
    "main_list"
   ]
  },
  {
   "cell_type": "code",
   "execution_count": 9,
   "id": "b347a213",
   "metadata": {},
   "outputs": [
    {
     "data": {
      "text/plain": [
       "['dhoni', 'kolhi', 'k', 'a', 'b', 'i', 'l']"
      ]
     },
     "execution_count": 9,
     "metadata": {},
     "output_type": "execute_result"
    }
   ],
   "source": [
    "main_list=['dhoni','kolhi']\n",
    "main_list.extend(\"kabil\")\n",
    "main_list"
   ]
  },
  {
   "cell_type": "code",
   "execution_count": 12,
   "id": "35fb5619",
   "metadata": {},
   "outputs": [
    {
     "data": {
      "text/plain": [
       "['12', '13', '24']"
      ]
     },
     "execution_count": 12,
     "metadata": {},
     "output_type": "execute_result"
    }
   ],
   "source": [
    "list_sort=[\"13\",\"24\",\"12\"]\n",
    "sorted(list_sort)"
   ]
  },
  {
   "cell_type": "code",
   "execution_count": 13,
   "id": "a5e9fbce",
   "metadata": {},
   "outputs": [
    {
     "data": {
      "text/plain": [
       "['Ashwin', 'aswin']"
      ]
     },
     "execution_count": 13,
     "metadata": {},
     "output_type": "execute_result"
    }
   ],
   "source": [
    "re=[\"aswin\",\"Ashwin\"]\n",
    "sorted(re)"
   ]
  },
  {
   "cell_type": "code",
   "execution_count": 20,
   "id": "2843163e",
   "metadata": {},
   "outputs": [
    {
     "ename": "SyntaxError",
     "evalue": "name 'alpha_arr' is assigned to before global declaration (Temp/ipykernel_14028/2520570246.py, line 16)",
     "output_type": "error",
     "traceback": [
      "\u001b[1;36m  File \u001b[1;32m\"C:\\Users\\FUTURE~1\\AppData\\Local\\Temp/ipykernel_14028/2520570246.py\"\u001b[1;36m, line \u001b[1;32m16\u001b[0m\n\u001b[1;33m    global alpha_arr\u001b[0m\n\u001b[1;37m    ^\u001b[0m\n\u001b[1;31mSyntaxError\u001b[0m\u001b[1;31m:\u001b[0m name 'alpha_arr' is assigned to before global declaration\n"
     ]
    }
   ],
   "source": [
    "var=[\"ashwin\",\"basket\",5,2,6.6,8,(\"Sd\",34)]\n",
    "re=[]\n",
    "numflag=True\n",
    "alphaflag=True\n",
    "ignoreflag=True\n",
    "for value in var:\n",
    "    if(isinstance(value, int)):\n",
    "        if(numflag):\n",
    "            num_ar=[]\n",
    "            global num_arr\n",
    "            numflag=False\n",
    "        num_arr.append(i)\n",
    "    elif(isinstance(value, str)):\n",
    "        if(alphaflag):\n",
    "            alpha_arr=[]\n",
    "            global alpha_arr\n",
    "            alphaflag=False\n",
    "            \n",
    "        alpha_arr.append(i)\n",
    "    else:\n",
    "        if(ignoreflag):\n",
    "            ignore=[]\n",
    "            global ignore\n",
    "            ignoreflag=False\n",
    "        ignore.append(i)\n",
    "if(not(numflag)):\n",
    "    num_arr.sort()\n",
    "    re+=num_arr\n",
    "if(not(alphaflag)):\n",
    "    alpha_arr.sort()\n",
    "    alpha_arr=[i[::-1] for i in alpha_arr]\n",
    "    re+=alpha_arr\n",
    "if(not(ignoreflag)):\n",
    "    re+=ignore\n",
    "print(re)\n",
    "\n",
    "\n",
    "    "
   ]
  },
  {
   "cell_type": "code",
   "execution_count": 33,
   "id": "75c85ba5",
   "metadata": {},
   "outputs": [
    {
     "name": "stdout",
     "output_type": "stream",
     "text": [
      "['Sds', 'aas']\n",
      "[45, 324, 'sdS', 'saa']\n"
     ]
    }
   ],
   "source": [
    "l=[\"aas\",\"Sds\",324,45,(\"Sd\",4),5.4]\n",
    "string=[i for i in l[:] if isinstance(i, str)]\n",
    "num=[i for i in l[:] if (isinstance(i, int))]\n",
    "num.sort()\n",
    "print(sorted(string))\n",
    "l=[i[::-1] for i in sorted(string)]\n",
    "print(num+l)\n",
    "\n",
    "\n"
   ]
  },
  {
   "cell_type": "code",
   "execution_count": null,
   "id": "0032e0ce",
   "metadata": {},
   "outputs": [],
   "source": []
  },
  {
   "cell_type": "code",
   "execution_count": 40,
   "id": "403f3582",
   "metadata": {},
   "outputs": [
    {
     "name": "stdout",
     "output_type": "stream",
     "text": [
      "[45, 324, 'sdS', 'saa']\n"
     ]
    }
   ],
   "source": [
    "l=[\"aas\",\"Sds\",324,45,(\"Sd\",4),5.4]\n",
    "num=[]\n",
    "for i in l[:]:\n",
    "    if(isinstance(i,int)):\n",
    "        num.append(i)\n",
    "        l.remove(i)\n",
    "    elif(isinstance(i,str)):\n",
    "        pass\n",
    "    else:\n",
    "        l.remove(i)\n",
    "l=[i[::-1] for i in sorted(l)]\n",
    "num.sort()\n",
    "print(num+l)"
   ]
  },
  {
   "cell_type": "code",
   "execution_count": 32,
   "id": "b25c1170",
   "metadata": {},
   "outputs": [],
   "source": [
    "#Tuple"
   ]
  },
  {
   "cell_type": "code",
   "execution_count": 34,
   "id": "2b3e3140",
   "metadata": {},
   "outputs": [],
   "source": [
    "d={}\n",
    "#hasing or hasable table\n",
    "# o(1)\n",
    "# key value pair\n",
    "#key should be unique\n",
    "#json"
   ]
  },
  {
   "cell_type": "code",
   "execution_count": 35,
   "id": "8c894573",
   "metadata": {},
   "outputs": [
    {
     "name": "stdout",
     "output_type": "stream",
     "text": [
      "{'name': 'dhoni', 'age': [44, 22]}\n"
     ]
    }
   ],
   "source": [
    "var={\"name\":\"dhoni\",\"age\":33,\"age\":[44,22]}\n",
    "print(var)"
   ]
  },
  {
   "cell_type": "code",
   "execution_count": 38,
   "id": "852cbf5f",
   "metadata": {},
   "outputs": [
    {
     "name": "stdout",
     "output_type": "stream",
     "text": [
      "{'age': [44, 22], 'name': 'dhoni'}\n"
     ]
    }
   ],
   "source": [
    "import pprint\n",
    "val=pprint.pprint(var)"
   ]
  },
  {
   "cell_type": "code",
   "execution_count": 41,
   "id": "c7cd01f6",
   "metadata": {},
   "outputs": [
    {
     "data": {
      "text/plain": [
       "['__class__',\n",
       " '__class_getitem__',\n",
       " '__contains__',\n",
       " '__delattr__',\n",
       " '__delitem__',\n",
       " '__dir__',\n",
       " '__doc__',\n",
       " '__eq__',\n",
       " '__format__',\n",
       " '__ge__',\n",
       " '__getattribute__',\n",
       " '__getitem__',\n",
       " '__gt__',\n",
       " '__hash__',\n",
       " '__init__',\n",
       " '__init_subclass__',\n",
       " '__ior__',\n",
       " '__iter__',\n",
       " '__le__',\n",
       " '__len__',\n",
       " '__lt__',\n",
       " '__ne__',\n",
       " '__new__',\n",
       " '__or__',\n",
       " '__reduce__',\n",
       " '__reduce_ex__',\n",
       " '__repr__',\n",
       " '__reversed__',\n",
       " '__ror__',\n",
       " '__setattr__',\n",
       " '__setitem__',\n",
       " '__sizeof__',\n",
       " '__str__',\n",
       " '__subclasshook__',\n",
       " 'clear',\n",
       " 'copy',\n",
       " 'fromkeys',\n",
       " 'get',\n",
       " 'items',\n",
       " 'keys',\n",
       " 'pop',\n",
       " 'popitem',\n",
       " 'setdefault',\n",
       " 'update',\n",
       " 'values']"
      ]
     },
     "execution_count": 41,
     "metadata": {},
     "output_type": "execute_result"
    }
   ],
   "source": [
    "dir(dict)"
   ]
  },
  {
   "cell_type": "code",
   "execution_count": 42,
   "id": "ece4f3a8",
   "metadata": {},
   "outputs": [],
   "source": [
    "#colorma"
   ]
  },
  {
   "cell_type": "code",
   "execution_count": 46,
   "id": "bab54350",
   "metadata": {},
   "outputs": [
    {
     "data": {
      "text/plain": [
       "<list_iterator at 0x154674ade50>"
      ]
     },
     "execution_count": 46,
     "metadata": {},
     "output_type": "execute_result"
    }
   ],
   "source": [
    "var=[1,'a',2,'b',3,'c']\n",
    "var_iter=iter(var)\n",
    "var_iter"
   ]
  },
  {
   "cell_type": "code",
   "execution_count": 47,
   "id": "8f952e95",
   "metadata": {},
   "outputs": [
    {
     "data": {
      "text/plain": [
       "{1: 'a', 2: 'b', 3: 'c'}"
      ]
     },
     "execution_count": 47,
     "metadata": {},
     "output_type": "execute_result"
    }
   ],
   "source": [
    "var_zip=dict(zip(var_iter,var_iter))\n",
    "var_zip"
   ]
  },
  {
   "cell_type": "code",
   "execution_count": 6,
   "id": "40aafcba",
   "metadata": {},
   "outputs": [
    {
     "name": "stdout",
     "output_type": "stream",
     "text": [
      "sorry enter the correct number\n"
     ]
    }
   ],
   "source": [
    "try:\n",
    "    var=10/0\n",
    "    print(var)\n",
    "except:\n",
    "    print(\"sorry enter the correct number\")"
   ]
  },
  {
   "cell_type": "code",
   "execution_count": 4,
   "id": "d2191805",
   "metadata": {},
   "outputs": [
    {
     "name": "stdout",
     "output_type": "stream",
     "text": [
      "division by zero\n"
     ]
    }
   ],
   "source": [
    "#there can be only a try block but we can have multiple exception block and default exception should come in last \n",
    "\n",
    "try:\n",
    "    var=10/0\n",
    "    print(var)\n",
    "except TypeError as any_name:\n",
    "    print(any_name)\n",
    "except ZeroDivisionError as ex:\n",
    "    print(ex)\n",
    "except:\n",
    "    print(\"check error manually\")"
   ]
  },
  {
   "cell_type": "code",
   "execution_count": 8,
   "id": "be87d189",
   "metadata": {},
   "outputs": [
    {
     "name": "stdout",
     "output_type": "stream",
     "text": [
      "division by zero\n"
     ]
    }
   ],
   "source": [
    "try:\n",
    "    var=10/0\n",
    "    print(var)\n",
    "except (TypeError,ZeroDivisionError) as ex:\n",
    "    print(ex)\n",
    "except:\n",
    "    print(\"sorry\")"
   ]
  },
  {
   "cell_type": "code",
   "execution_count": 11,
   "id": "a058ceab",
   "metadata": {},
   "outputs": [
    {
     "name": "stdout",
     "output_type": "stream",
     "text": [
      "division by zero\n"
     ]
    }
   ],
   "source": [
    "#method to use it will catch and dsiplay all exception\n",
    "try:\n",
    "    var=10/0\n",
    "    print(var)\n",
    "except Exception as ex:\n",
    "    print(ex)\n"
   ]
  },
  {
   "cell_type": "code",
   "execution_count": 12,
   "id": "30abd3bc",
   "metadata": {},
   "outputs": [
    {
     "name": "stdout",
     "output_type": "stream",
     "text": [
      "division by zero\n",
      "Execution done\n"
     ]
    }
   ],
   "source": [
    "#else will be printed if exception is not caught \n",
    "#finally will be executes in all scenrios\n",
    "try:\n",
    "    var=10/0\n",
    "    print(var)\n",
    "except (TypeError,ZeroDivisionError) as ex:\n",
    "    print(ex)\n",
    "else:\n",
    "    print(\"no exception is caught\")\n",
    "finally:\n",
    "    print(\"Execution done\")"
   ]
  },
  {
   "cell_type": "code",
   "execution_count": 14,
   "id": "97cf167e",
   "metadata": {},
   "outputs": [
    {
     "name": "stdout",
     "output_type": "stream",
     "text": [
      "rhis is my own raise wxcpetion\n"
     ]
    }
   ],
   "source": [
    "#manually hardcoding to raise exception especially to test programs\n",
    "try:\n",
    "    var=10\n",
    "    if var>5:\n",
    "        raise IndexError(\"rhis is my own raise wxcpetion\")\n",
    "except IndexError as ex:\n",
    "    print(ex)"
   ]
  },
  {
   "cell_type": "code",
   "execution_count": 18,
   "id": "2c79a985",
   "metadata": {},
   "outputs": [
    {
     "name": "stdout",
     "output_type": "stream",
     "text": [
      "user defined excpetion\n"
     ]
    }
   ],
   "source": [
    "#user defined exception\n",
    "class MyError(Exception):\n",
    "        my_meaning=\"user defined excpetion\"\n",
    "try:\n",
    "    var=10\n",
    "    if var>5:\n",
    "        raise MyError\n",
    "except MyError as ex:\n",
    "    print(ex.my_meaning)\n"
   ]
  },
  {
   "cell_type": "code",
   "execution_count": null,
   "id": "4ffeb8ae",
   "metadata": {},
   "outputs": [],
   "source": []
  }
 ],
 "metadata": {
  "kernelspec": {
   "display_name": "Python 3 (ipykernel)",
   "language": "python",
   "name": "python3"
  },
  "language_info": {
   "codemirror_mode": {
    "name": "ipython",
    "version": 3
   },
   "file_extension": ".py",
   "mimetype": "text/x-python",
   "name": "python",
   "nbconvert_exporter": "python",
   "pygments_lexer": "ipython3",
   "version": "3.9.7"
  }
 },
 "nbformat": 4,
 "nbformat_minor": 5
}
