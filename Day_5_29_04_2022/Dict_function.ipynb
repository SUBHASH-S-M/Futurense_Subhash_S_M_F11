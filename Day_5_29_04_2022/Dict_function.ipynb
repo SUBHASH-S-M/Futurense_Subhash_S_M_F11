{
 "cells": [
  {
   "cell_type": "code",
   "execution_count": 2,
   "id": "41a6b707",
   "metadata": {},
   "outputs": [
    {
     "name": "stdout",
     "output_type": "stream",
     "text": [
      "{'name': 'dhoni'} <class 'dict'>\n"
     ]
    }
   ],
   "source": [
    "var={\"name\":\"dhoni\"}\n",
    "print(var,type(var))"
   ]
  },
  {
   "cell_type": "code",
   "execution_count": 3,
   "id": "644f9cdb",
   "metadata": {},
   "outputs": [
    {
     "name": "stdout",
     "output_type": "stream",
     "text": [
      "{'name': 'kohli'}\n"
     ]
    }
   ],
   "source": [
    "#updation \n",
    "var={\"name\":\"dhoni\",\"name\":\"kohli\"}\n",
    "print(var)\n"
   ]
  },
  {
   "cell_type": "code",
   "execution_count": 4,
   "id": "726ae1db",
   "metadata": {},
   "outputs": [
    {
     "ename": "TypeError",
     "evalue": "unsupported operand type(s) for +: 'dict' and 'dict'",
     "output_type": "error",
     "traceback": [
      "\u001b[1;31m---------------------------------------------------------------------------\u001b[0m",
      "\u001b[1;31mTypeError\u001b[0m                                 Traceback (most recent call last)",
      "\u001b[1;32m~\\AppData\\Local\\Temp/ipykernel_3600/80551866.py\u001b[0m in \u001b[0;36m<module>\u001b[1;34m\u001b[0m\n\u001b[0;32m      2\u001b[0m \u001b[0mvar1\u001b[0m\u001b[1;33m=\u001b[0m\u001b[1;33m{\u001b[0m\u001b[1;34m\"name\"\u001b[0m\u001b[1;33m:\u001b[0m\u001b[1;34m\"dhoni\"\u001b[0m\u001b[1;33m}\u001b[0m\u001b[1;33m\u001b[0m\u001b[1;33m\u001b[0m\u001b[0m\n\u001b[0;32m      3\u001b[0m \u001b[0mvar2\u001b[0m\u001b[1;33m=\u001b[0m\u001b[1;33m{\u001b[0m\u001b[1;34m\"age\"\u001b[0m\u001b[1;33m:\u001b[0m\u001b[1;36m100\u001b[0m\u001b[1;33m}\u001b[0m\u001b[1;33m\u001b[0m\u001b[1;33m\u001b[0m\u001b[0m\n\u001b[1;32m----> 4\u001b[1;33m \u001b[0mprint\u001b[0m\u001b[1;33m(\u001b[0m\u001b[0mvar1\u001b[0m\u001b[1;33m+\u001b[0m\u001b[0mvar2\u001b[0m\u001b[1;33m)\u001b[0m\u001b[1;33m\u001b[0m\u001b[1;33m\u001b[0m\u001b[0m\n\u001b[0m",
      "\u001b[1;31mTypeError\u001b[0m: unsupported operand type(s) for +: 'dict' and 'dict'"
     ]
    }
   ],
   "source": [
    "#dict concatentaion\n",
    "var1={\"name\":\"dhoni\"}\n",
    "var2={\"age\":100}\n",
    "print(var1+var2)"
   ]
  },
  {
   "cell_type": "code",
   "execution_count": 5,
   "id": "ae1981e6",
   "metadata": {},
   "outputs": [
    {
     "name": "stdout",
     "output_type": "stream",
     "text": [
      "{'name': 'dhoni', 'age': 100}\n"
     ]
    }
   ],
   "source": [
    "#dict concatentaion the modified esult can be stored in another varaible\n",
    "var1={\"name\":\"dhoni\"}\n",
    "var2={\"age\":100}\n",
    "#method 1\n",
    "output={**var1,**var2}\n",
    "print(output)"
   ]
  },
  {
   "cell_type": "code",
   "execution_count": 7,
   "id": "317fb413",
   "metadata": {},
   "outputs": [
    {
     "name": "stdout",
     "output_type": "stream",
     "text": [
      "{'name': 'dhoni', 'age': 100}\n"
     ]
    }
   ],
   "source": [
    "#dict concatentaion the modified esult cannot  be stored in another varaible but the result is stored in ether of the variablr\n",
    "var1={\"name\":\"dhoni\"}\n",
    "var2={\"age\":100}\n",
    "#method 2\n",
    "var1.update(var2) # or var2.update(var1)\n",
    "print(var1)"
   ]
  },
  {
   "cell_type": "code",
   "execution_count": 8,
   "id": "8fb5a646",
   "metadata": {},
   "outputs": [
    {
     "name": "stdout",
     "output_type": "stream",
     "text": [
      "{'name': 'dhoni', 'age': 100, True: 12, ('a', 'b'): 'works'}\n"
     ]
    }
   ],
   "source": [
    "# any immutable category can be key in python\n",
    "var1={'name': 'dhoni', 'age': 100,True:12,('a','b'):'works'}\n",
    "print(var1)\n"
   ]
  },
  {
   "cell_type": "code",
   "execution_count": 9,
   "id": "ddeb325b",
   "metadata": {},
   "outputs": [
    {
     "ename": "TypeError",
     "evalue": "unhashable type: 'list'",
     "output_type": "error",
     "traceback": [
      "\u001b[1;31m---------------------------------------------------------------------------\u001b[0m",
      "\u001b[1;31mTypeError\u001b[0m                                 Traceback (most recent call last)",
      "\u001b[1;32m~\\AppData\\Local\\Temp/ipykernel_3600/2007557819.py\u001b[0m in \u001b[0;36m<module>\u001b[1;34m\u001b[0m\n\u001b[0;32m      1\u001b[0m \u001b[1;31m# any mutable(list) category can be key in python\u001b[0m\u001b[1;33m\u001b[0m\u001b[1;33m\u001b[0m\u001b[0m\n\u001b[1;32m----> 2\u001b[1;33m \u001b[0mvar1\u001b[0m\u001b[1;33m=\u001b[0m\u001b[1;33m{\u001b[0m\u001b[1;34m'name'\u001b[0m\u001b[1;33m:\u001b[0m \u001b[1;34m'dhoni'\u001b[0m\u001b[1;33m,\u001b[0m \u001b[1;34m'age'\u001b[0m\u001b[1;33m:\u001b[0m \u001b[1;36m100\u001b[0m\u001b[1;33m,\u001b[0m\u001b[1;32mTrue\u001b[0m\u001b[1;33m:\u001b[0m\u001b[1;36m12\u001b[0m\u001b[1;33m,\u001b[0m\u001b[1;33m(\u001b[0m\u001b[1;34m'a'\u001b[0m\u001b[1;33m,\u001b[0m\u001b[1;34m'b'\u001b[0m\u001b[1;33m)\u001b[0m\u001b[1;33m:\u001b[0m\u001b[1;34m'works'\u001b[0m\u001b[1;33m,\u001b[0m\u001b[1;33m[\u001b[0m\u001b[1;36m1\u001b[0m\u001b[1;33m,\u001b[0m\u001b[1;36m2\u001b[0m\u001b[1;33m,\u001b[0m\u001b[1;36m3\u001b[0m\u001b[1;33m]\u001b[0m\u001b[1;33m:\u001b[0m\u001b[1;36m1234\u001b[0m\u001b[1;33m}\u001b[0m\u001b[1;33m\u001b[0m\u001b[1;33m\u001b[0m\u001b[0m\n\u001b[0m\u001b[0;32m      3\u001b[0m \u001b[1;33m\u001b[0m\u001b[0m\n\u001b[0;32m      4\u001b[0m \u001b[0mprint\u001b[0m\u001b[1;33m(\u001b[0m\u001b[0mvar1\u001b[0m\u001b[1;33m)\u001b[0m\u001b[1;33m\u001b[0m\u001b[1;33m\u001b[0m\u001b[0m\n",
      "\u001b[1;31mTypeError\u001b[0m: unhashable type: 'list'"
     ]
    }
   ],
   "source": [
    "# any mutable(list) category can be key in python\n",
    "var1={'name': 'dhoni', 'age': 100,True:12,('a','b'):'works',[1,2,3]:1234}\n",
    "\n",
    "print(var1)\n"
   ]
  },
  {
   "cell_type": "code",
   "execution_count": 11,
   "id": "b54d6cbd",
   "metadata": {},
   "outputs": [
    {
     "name": "stdout",
     "output_type": "stream",
     "text": [
      "['__class__', '__class_getitem__', '__contains__', '__delattr__', '__delitem__', '__dir__', '__doc__', '__eq__', '__format__', '__ge__', '__getattribute__', '__getitem__', '__gt__', '__hash__', '__init__', '__init_subclass__', '__ior__', '__iter__', '__le__', '__len__', '__lt__', '__ne__', '__new__', '__or__', '__reduce__', '__reduce_ex__', '__repr__', '__reversed__', '__ror__', '__setattr__', '__setitem__', '__sizeof__', '__str__', '__subclasshook__', 'clear', 'copy', 'fromkeys', 'get', 'items', 'keys', 'pop', 'popitem', 'setdefault', 'update', 'values']\n"
     ]
    }
   ],
   "source": [
    "print(dir(dict))   #methods avialble"
   ]
  },
  {
   "cell_type": "code",
   "execution_count": 16,
   "id": "f7533240",
   "metadata": {},
   "outputs": [
    {
     "name": "stdout",
     "output_type": "stream",
     "text": [
      "{'name': 'kohli', 'age': 58}\n"
     ]
    }
   ],
   "source": [
    "print(var)\n",
    "var[\"age\"]=58  #mutable so ele addtion ,rmeoving,modification is possible\n"
   ]
  },
  {
   "cell_type": "code",
   "execution_count": 20,
   "id": "f76f0711",
   "metadata": {},
   "outputs": [
    {
     "name": "stdout",
     "output_type": "stream",
     "text": [
      "{'name': 'kohli', 'age': 58, 'team': 'csk', 'born_year': 1998}\n"
     ]
    }
   ],
   "source": [
    "var={'name': 'kohli', 'age': 58,\"team\":\"csk\",\"born_year\":1998}\n",
    "print(var)"
   ]
  },
  {
   "cell_type": "code",
   "execution_count": 21,
   "id": "75881b53",
   "metadata": {},
   "outputs": [
    {
     "name": "stdout",
     "output_type": "stream",
     "text": [
      "age 58\n",
      "born_year 1998\n",
      "name kohli\n",
      "team csk\n"
     ]
    }
   ],
   "source": [
    "for i in sorted(var):\n",
    "    print(i,var[i])\n"
   ]
  },
  {
   "cell_type": "code",
   "execution_count": 26,
   "id": "ce0ddd0d",
   "metadata": {},
   "outputs": [
    {
     "name": "stdout",
     "output_type": "stream",
     "text": [
      "('name', 'kohli')\n",
      "('age', 58)\n",
      "('team', 'csk')\n",
      "('born_year', 1998)\n"
     ]
    }
   ],
   "source": [
    "for i in var.items():\n",
    "    print(i)"
   ]
  },
  {
   "cell_type": "code",
   "execution_count": 23,
   "id": "3dd6d620",
   "metadata": {},
   "outputs": [
    {
     "name": "stdout",
     "output_type": "stream",
     "text": [
      "{'name': 'kohli', 'age': 58, 'team': 'csk', 'born_year': 1998}\n",
      "{'age': 58, 'born_year': 1998, 'name': 'kohli', 'team': 'csk'}\n"
     ]
    }
   ],
   "source": [
    "#dict optimised on\n",
    "var={'name': 'kohli', 'age': 58,\"team\":\"csk\",\"born_year\":1998}\n",
    "print(var)\n",
    "print(dict(sorted(var.items())))"
   ]
  },
  {
   "cell_type": "code",
   "execution_count": 29,
   "id": "0f052921",
   "metadata": {},
   "outputs": [
    {
     "name": "stdout",
     "output_type": "stream",
     "text": [
      "{'age': 58, 'born_year': 1998, 'name': 'kohli', 'team': 'csk'}\n"
     ]
    }
   ],
   "source": [
    "var={'name': 'kohli', 'age': 58,\"team\":\"csk\",\"born_year\":1998}\n",
    "new_dict={}\n",
    "for index in sorted(var):\n",
    "    new_dict[index]=var[index]\n",
    "print(new_dict)\n",
    "    "
   ]
  },
  {
   "cell_type": "code",
   "execution_count": 30,
   "id": "05133981",
   "metadata": {},
   "outputs": [
    {
     "name": "stdout",
     "output_type": "stream",
     "text": [
      "{'age': 58, 'born_year': 1998, 'name': 'kohli', 'team': 'csk'}\n"
     ]
    }
   ],
   "source": [
    "#dict comprehension\n",
    "var={'name': 'kohli', 'age': 58,\"team\":\"csk\",\"born_year\":1998}\n",
    "# for index in sorted(var):\n",
    "#     new_dict[index]=var[index]\n",
    "# print(new_dict)\n",
    "\n",
    "\n",
    "#dict comprehension for the above\n",
    "new_dict={ key:var[key] for key in sorted(var) }\n",
    "print(new_dict)\n"
   ]
  },
  {
   "cell_type": "code",
   "execution_count": 32,
   "id": "dd34cec5",
   "metadata": {},
   "outputs": [
    {
     "ename": "AttributeError",
     "evalue": "'dict' object has no attribute 'sort'",
     "output_type": "error",
     "traceback": [
      "\u001b[1;31m---------------------------------------------------------------------------\u001b[0m",
      "\u001b[1;31mAttributeError\u001b[0m                            Traceback (most recent call last)",
      "\u001b[1;32m~\\AppData\\Local\\Temp/ipykernel_3600/266586839.py\u001b[0m in \u001b[0;36m<module>\u001b[1;34m\u001b[0m\n\u001b[0;32m      1\u001b[0m \u001b[0mvar\u001b[0m\u001b[1;33m=\u001b[0m\u001b[1;33m{\u001b[0m\u001b[1;34m'name'\u001b[0m\u001b[1;33m:\u001b[0m \u001b[1;34m'kohli'\u001b[0m\u001b[1;33m,\u001b[0m \u001b[1;34m'age'\u001b[0m\u001b[1;33m:\u001b[0m \u001b[1;36m58\u001b[0m\u001b[1;33m,\u001b[0m\u001b[1;34m\"team\"\u001b[0m\u001b[1;33m:\u001b[0m\u001b[1;34m\"csk\"\u001b[0m\u001b[1;33m,\u001b[0m\u001b[1;34m\"born_year\"\u001b[0m\u001b[1;33m:\u001b[0m\u001b[1;36m1998\u001b[0m\u001b[1;33m}\u001b[0m\u001b[1;33m\u001b[0m\u001b[1;33m\u001b[0m\u001b[0m\n\u001b[1;32m----> 2\u001b[1;33m \u001b[0mvar\u001b[0m\u001b[1;33m.\u001b[0m\u001b[0msort\u001b[0m\u001b[1;33m(\u001b[0m\u001b[1;33m)\u001b[0m\u001b[1;33m\u001b[0m\u001b[1;33m\u001b[0m\u001b[0m\n\u001b[0m",
      "\u001b[1;31mAttributeError\u001b[0m: 'dict' object has no attribute 'sort'"
     ]
    }
   ],
   "source": [
    "var={'name': 'kohli', 'age': 58,\"team\":\"csk\",\"born_year\":1998}\n",
    "var.sort()"
   ]
  },
  {
   "cell_type": "code",
   "execution_count": 36,
   "id": "947db1b0",
   "metadata": {},
   "outputs": [
    {
     "name": "stdout",
     "output_type": "stream",
     "text": [
      "['sds', 'ba', 'a']\n"
     ]
    }
   ],
   "source": [
    "var=[\"a\",\"ba\",'sds']\n",
    "var.sort(reverse=True,key=len)\n",
    "# var=sorted(var,reverse=True,key=len)\n",
    "print(var)"
   ]
  },
  {
   "cell_type": "code",
   "execution_count": 46,
   "id": "c9857eb3",
   "metadata": {},
   "outputs": [
    {
     "name": "stdout",
     "output_type": "stream",
     "text": [
      "{\"age\": 58, \"born_year\": 1998, \"name\": \"kohli\", \"team\": \"csk\"}\n"
     ]
    }
   ],
   "source": [
    "#converting string to dict\n",
    "\n",
    "#var='''{'age': 58, 'born_year': 1998, 'name': 'kohli', 'team': 'csk'}'''\n",
    "var=\"{'age': 58, 'born_year': 1998, 'name': 'kohli', 'team': 'csk'}\"\n",
    "var=var.replace(\"'\",\"\\\"\")\n",
    "import json\n",
    "res = json.loads(var)\n",
    "print(var)\n"
   ]
  },
  {
   "cell_type": "code",
   "execution_count": 49,
   "id": "d695c5f8",
   "metadata": {},
   "outputs": [
    {
     "name": "stdout",
     "output_type": "stream",
     "text": [
      "{\"age\": 58, \"born_year\": 1998, \"name\": \"kohli\", \"team\": \"csk\"}\n",
      "{\"age\": 58, \"born_year\": 1998, \"name\": \"kohli\", \"team\": \"csk\"}\n",
      "\"{\\\"age\\\": 58, \\\"born_year\\\": 1998, \\\"name\\\": \\\"kohli\\\", \\\"team\\\": \\\"csk\\\"}\"\n"
     ]
    }
   ],
   "source": [
    "#stroing dict in db dumbs format\n",
    "#load --> conversion of string to dict\n",
    "#dumps --> conversion of dict to string\n",
    "var=\"{'age': 58, 'born_year': 1998, 'name': 'kohli', 'team': 'csk'}\"\n",
    "var=var.replace(\"'\",\"\\\"\")\n",
    "import json\n",
    "res = json.loads(var)\n",
    "print(var)\n",
    "print(var)\n",
    "var_string=json.dumps(var)\n",
    "print(var_string)\n"
   ]
  },
  {
   "cell_type": "code",
   "execution_count": 50,
   "id": "d90fbe57",
   "metadata": {},
   "outputs": [
    {
     "ename": "TypeError",
     "evalue": "pop expected at least 1 argument, got 0",
     "output_type": "error",
     "traceback": [
      "\u001b[1;31m---------------------------------------------------------------------------\u001b[0m",
      "\u001b[1;31mTypeError\u001b[0m                                 Traceback (most recent call last)",
      "\u001b[1;32m~\\AppData\\Local\\Temp/ipykernel_3600/1824520627.py\u001b[0m in \u001b[0;36m<module>\u001b[1;34m\u001b[0m\n\u001b[0;32m      1\u001b[0m \u001b[0mvar\u001b[0m\u001b[1;33m=\u001b[0m\u001b[1;33m{\u001b[0m\u001b[1;34m'name'\u001b[0m\u001b[1;33m:\u001b[0m \u001b[1;34m'kohli'\u001b[0m\u001b[1;33m,\u001b[0m \u001b[1;34m'age'\u001b[0m\u001b[1;33m:\u001b[0m \u001b[1;36m58\u001b[0m\u001b[1;33m,\u001b[0m\u001b[1;34m\"team\"\u001b[0m\u001b[1;33m:\u001b[0m\u001b[1;34m\"csk\"\u001b[0m\u001b[1;33m,\u001b[0m\u001b[1;34m\"born_year\"\u001b[0m\u001b[1;33m:\u001b[0m\u001b[1;36m1998\u001b[0m\u001b[1;33m}\u001b[0m\u001b[1;33m\u001b[0m\u001b[1;33m\u001b[0m\u001b[0m\n\u001b[0;32m      2\u001b[0m \u001b[1;31m#pop in dict   #requires and parameter\u001b[0m\u001b[1;33m\u001b[0m\u001b[1;33m\u001b[0m\u001b[0m\n\u001b[1;32m----> 3\u001b[1;33m \u001b[0mvar\u001b[0m\u001b[1;33m.\u001b[0m\u001b[0mpop\u001b[0m\u001b[1;33m(\u001b[0m\u001b[1;33m)\u001b[0m\u001b[1;33m\u001b[0m\u001b[1;33m\u001b[0m\u001b[0m\n\u001b[0m",
      "\u001b[1;31mTypeError\u001b[0m: pop expected at least 1 argument, got 0"
     ]
    }
   ],
   "source": [
    "var={'name': 'kohli', 'age': 58,\"team\":\"csk\",\"born_year\":1998}\n",
    "#pop in dict   #requires and parameter\n",
    "var.pop()\n"
   ]
  },
  {
   "cell_type": "code",
   "execution_count": 51,
   "id": "6ff3d89c",
   "metadata": {},
   "outputs": [
    {
     "name": "stdout",
     "output_type": "stream",
     "text": [
      "{'age': 58, 'team': 'csk', 'born_year': 1998}\n"
     ]
    }
   ],
   "source": [
    "var={'name': 'kohli', 'age': 58,\"team\":\"csk\",\"born_year\":1998}\n",
    "#pop in dict   #requires and parameter\n",
    "var.pop('name') #req key name\n",
    "print(var)\n"
   ]
  },
  {
   "cell_type": "code",
   "execution_count": 1,
   "id": "1235cff0",
   "metadata": {},
   "outputs": [
    {
     "name": "stdout",
     "output_type": "stream",
     "text": [
      "{'name': 'kohli', 'age': 58, 'team': 'csk'}\n"
     ]
    }
   ],
   "source": [
    "var={'name': 'kohli', 'age': 58,\"team\":\"csk\",\"born_year\":1998}\n",
    "var.popitem() # remove the last element \n",
    "print(var)"
   ]
  },
  {
   "cell_type": "code",
   "execution_count": null,
   "id": "445a0892",
   "metadata": {},
   "outputs": [],
   "source": []
  }
 ],
 "metadata": {
  "kernelspec": {
   "display_name": "Python 3 (ipykernel)",
   "language": "python",
   "name": "python3"
  },
  "language_info": {
   "codemirror_mode": {
    "name": "ipython",
    "version": 3
   },
   "file_extension": ".py",
   "mimetype": "text/x-python",
   "name": "python",
   "nbconvert_exporter": "python",
   "pygments_lexer": "ipython3",
   "version": "3.9.7"
  }
 },
 "nbformat": 4,
 "nbformat_minor": 5
}
