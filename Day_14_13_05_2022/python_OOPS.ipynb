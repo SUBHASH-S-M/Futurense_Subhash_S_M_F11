{
 "cells": [
  {
   "cell_type": "code",
   "execution_count": 1,
   "id": "ca13f6e7",
   "metadata": {},
   "outputs": [
    {
     "name": "stdout",
     "output_type": "stream",
     "text": [
      "Welcome to python\n",
      "welcome to oops\n"
     ]
    }
   ],
   "source": [
    "class My_Class:\n",
    "    def fun():\n",
    "        print(\"Welcome to python\")\n",
    "    def two():\n",
    "        print(\"welcome to oops\")\n",
    "My_Class.fun()\n",
    "My_Class.two()"
   ]
  },
  {
   "cell_type": "code",
   "execution_count": 2,
   "id": "cf9fdaf2",
   "metadata": {},
   "outputs": [
    {
     "name": "stdout",
     "output_type": "stream",
     "text": [
      "Welcome to python\n",
      "welcome to oops\n"
     ]
    }
   ],
   "source": [
    "class My_Class:\n",
    "    def fun():\n",
    "        print(\"Welcome to python\")\n",
    "    def two():\n",
    "        print(\"welcome to oops\")\n",
    "my=My_Class\n",
    "my.fun()\n",
    "my.two()"
   ]
  },
  {
   "cell_type": "code",
   "execution_count": 3,
   "id": "a82a2a04",
   "metadata": {},
   "outputs": [
    {
     "name": "stdout",
     "output_type": "stream",
     "text": [
      "welcome to the server 127.89.0.6.5 subhash123\n"
     ]
    }
   ],
   "source": [
    "class  My_Server:\n",
    "    def __init__(obj,ip,pwd):\n",
    "        obj.ip=ip\n",
    "        obj.pwd=pwd\n",
    "    def server_login(obj):\n",
    "        print(\"welcom to python\",obj.ip)\n",
    "    def hostname(obj):\n",
    "        print(\"welcome to the server\",obj.ip,obj.pwd)\n",
    "#my=My_Server---> just my_server refers to copy of ,y_server to my\n",
    "my=My_Server(\"127.89.0.6.5\",\"subhash123\") #  indirectly three objects are passed object(my),two parmeter\n",
    "my.hostname()"
   ]
  },
  {
   "cell_type": "code",
   "execution_count": 4,
   "id": "d2573956",
   "metadata": {},
   "outputs": [],
   "source": [
    "#My_Sever() is called constutor\n",
    "# my is now become instance object reference\n",
    "# when we create constructor , we will have one hidden object created inside the contrucotr\n",
    "#___init__ by nature os called as attributes or dunder methods or magic methods\n",
    "#__init__  will create automatically when class constructor got created\n",
    "#__init__ will be created autoamteeically when calss contructor got created\n",
    "#__new__ will be created first"
   ]
  },
  {
   "cell_type": "markdown",
   "id": "cd44103b",
   "metadata": {},
   "source": [
    "# Doc String"
   ]
  },
  {
   "cell_type": "code",
   "execution_count": 5,
   "id": "77cd1a14",
   "metadata": {},
   "outputs": [
    {
     "name": "stdout",
     "output_type": "stream",
     "text": [
      "\n",
      "    author:Subhash\n",
      "    data    May_13_2022\n",
      "    Class Name:My_Server\n",
      "    \n"
     ]
    }
   ],
   "source": [
    "class  My_Server:\n",
    "    \"\"\"\n",
    "    author:Subhash\n",
    "    data    May_13_2022\n",
    "    Class Name:My_Server\n",
    "    \"\"\"\n",
    "    def __init__(obj,ip,pwd):\n",
    "        obj.ip=ip\n",
    "        obj.pwd=pwd\n",
    "    def server_login(obj):\n",
    "        print(\"welcom to python\",obj.ip)\n",
    "    def hostname(obj):\n",
    "        print(\"welcome to the server\",obj.ip,obj.pwd)\n",
    "#my=My_Server---> just my_server refers to copy of ,y_server to my\n",
    "my=My_Server(\"127.89.0.6.5\",\"subhash123\") #  indirectly three objects are passed object(my),two parmeter\n",
    "print(my.__doc__)"
   ]
  },
  {
   "cell_type": "raw",
   "id": "3a2e916a",
   "metadata": {},
   "source": [
    "@anyname --> it called decroator , trying to deviate the normal functioanlity decrotars are used\n",
    "decrotaotrs:\n",
    "    static method\n",
    "    "
   ]
  },
  {
   "cell_type": "code",
   "execution_count": 6,
   "id": "297edd41",
   "metadata": {},
   "outputs": [
    {
     "name": "stdout",
     "output_type": "stream",
     "text": [
      "address: https://google.com\n"
     ]
    }
   ],
   "source": [
    "class  My_Server:\n",
    "    def __init__(obj,ip,pwd):\n",
    "        obj.ip=ip\n",
    "        obj.pwd=pwd\n",
    "    def server_login(obj):\n",
    "        print(\"welcom to python\",obj.ip)\n",
    "    def hostname(obj):\n",
    "        print(\"welcome to the server\",obj.ip,obj.pwd)\n",
    "#     def routing(fqdb):   #routing() takes 1 positional argument but 2 were given\n",
    "#         print(fqdn)\n",
    "    @staticmethod\n",
    "    def routing(para):\n",
    "        print(\"address:\",para)\n",
    "        \n",
    "#my=My_Server---> just my_server refers to copy of ,y_server to my\n",
    "my=My_Server(\"127.89.0.6.5\",\"subhash123\") #  indirectly three objects are passed object(my),two parmeter\n",
    "my.routing(\"https://google.com\")"
   ]
  },
  {
   "cell_type": "code",
   "execution_count": 7,
   "id": "8a34167a",
   "metadata": {},
   "outputs": [
    {
     "name": "stdout",
     "output_type": "stream",
     "text": [
      "address: https://google.com\n"
     ]
    },
    {
     "ename": "AttributeError",
     "evalue": "'My_Server' object has no attribute 'server_login'",
     "output_type": "error",
     "traceback": [
      "\u001b[1;31m---------------------------------------------------------------------------\u001b[0m",
      "\u001b[1;31mAttributeError\u001b[0m                            Traceback (most recent call last)",
      "\u001b[1;32mC:\\Users\\FUTURE~1\\AppData\\Local\\Temp/ipykernel_10648/3320794926.py\u001b[0m in \u001b[0;36m<module>\u001b[1;34m\u001b[0m\n\u001b[0;32m     15\u001b[0m \u001b[0mmy\u001b[0m\u001b[1;33m=\u001b[0m\u001b[0mMy_Server\u001b[0m\u001b[1;33m(\u001b[0m\u001b[1;34m\"127.89.0.6.5\"\u001b[0m\u001b[1;33m,\u001b[0m\u001b[1;34m\"subhash123\"\u001b[0m\u001b[1;33m)\u001b[0m \u001b[1;31m#  indirectly three objects are passed object(my),two parmeter\u001b[0m\u001b[1;33m\u001b[0m\u001b[1;33m\u001b[0m\u001b[0m\n\u001b[0;32m     16\u001b[0m \u001b[0mmy\u001b[0m\u001b[1;33m.\u001b[0m\u001b[0mrouting\u001b[0m\u001b[1;33m(\u001b[0m\u001b[1;34m\"https://google.com\"\u001b[0m\u001b[1;33m)\u001b[0m\u001b[1;33m\u001b[0m\u001b[1;33m\u001b[0m\u001b[0m\n\u001b[1;32m---> 17\u001b[1;33m \u001b[0mmy\u001b[0m\u001b[1;33m.\u001b[0m\u001b[0mserver_login\u001b[0m\u001b[1;33m(\u001b[0m\u001b[1;33m)\u001b[0m \u001b[1;31m#AttributeError: 'My_Server' object has no attribute 'server_login'\u001b[0m\u001b[1;33m\u001b[0m\u001b[1;33m\u001b[0m\u001b[0m\n\u001b[0m\u001b[0;32m     18\u001b[0m \u001b[1;33m\u001b[0m\u001b[0m\n",
      "\u001b[1;31mAttributeError\u001b[0m: 'My_Server' object has no attribute 'server_login'"
     ]
    }
   ],
   "source": [
    "class  My_Server:\n",
    "    def __init__(obj,ip,pwd):\n",
    "        obj.ip=ip\n",
    "        obj.pwd=pwd\n",
    "    def __server_login(obj):   #__ makes a method private\n",
    "        print(\"welcom to python\",obj.ip)\n",
    "    def hostname(obj):\n",
    "        print(\"welcome to the server\",obj.ip,obj.pwd)\n",
    "\n",
    "    @staticmethod\n",
    "    def routing(para):\n",
    "        print(\"address:\",para)\n",
    "        \n",
    "#my=My_Server---> just my_server refers to copy of ,y_server to my\n",
    "my=My_Server(\"127.89.0.6.5\",\"subhash123\") #  indirectly three objects are passed object(my),two parmeter\n",
    "my.routing(\"https://google.com\")\n",
    "my.server_login() #AttributeError: 'My_Server' object has no attribute 'server_login'\n",
    "\n"
   ]
  },
  {
   "cell_type": "code",
   "execution_count": 8,
   "id": "ac63d870",
   "metadata": {},
   "outputs": [],
   "source": [
    "#https://files.realpython.com/media/Scope-in-Python---LEGB-Rule_Watermarked.e5f68e7a3642.jpg"
   ]
  },
  {
   "cell_type": "code",
   "execution_count": 9,
   "id": "0d5105fe",
   "metadata": {},
   "outputs": [],
   "source": [
    "#https://media.geeksforgeeks.org/wp-content/uploads/ScopeResolution-1-300x260.png"
   ]
  },
  {
   "cell_type": "code",
   "execution_count": 10,
   "id": "c8e90adc",
   "metadata": {},
   "outputs": [
    {
     "name": "stdout",
     "output_type": "stream",
     "text": [
      "10\n"
     ]
    }
   ],
   "source": [
    "#local scope comes into picture\n",
    "var=100\n",
    "def fun():\n",
    "    var=100\n",
    "    def new():\n",
    "        var=10    #local scope\n",
    "        print(var)  \n",
    "    new()\n",
    "fun()"
   ]
  },
  {
   "cell_type": "code",
   "execution_count": 11,
   "id": "f6c68447",
   "metadata": {},
   "outputs": [
    {
     "name": "stdout",
     "output_type": "stream",
     "text": [
      "100\n"
     ]
    }
   ],
   "source": [
    "#enclosed scope comes into picture\n",
    "var=150\n",
    "def fun():\n",
    "    var=100 #enclosed scope\n",
    "    def new():\n",
    "        #var=10    \n",
    "        print(var)  \n",
    "    new()\n",
    "fun()"
   ]
  },
  {
   "cell_type": "code",
   "execution_count": 12,
   "id": "dae58aff",
   "metadata": {},
   "outputs": [
    {
     "name": "stdout",
     "output_type": "stream",
     "text": [
      "150\n"
     ]
    }
   ],
   "source": [
    "#global scope comes into picture\n",
    "var=150 #global scope\n",
    "def fun():\n",
    "    #var=100 \n",
    "    def new():\n",
    "        #var=10    \n",
    "        print(var)  \n",
    "    new()\n",
    "fun()"
   ]
  },
  {
   "cell_type": "code",
   "execution_count": null,
   "id": "2e5b17c0",
   "metadata": {},
   "outputs": [],
   "source": [
    "#dont run\n",
    "count=0\n",
    "def fun():\n",
    "    global count\n",
    "    print(\"count\")\n",
    "    count+=1\n",
    "    fun()\n",
    "fun()"
   ]
  },
  {
   "cell_type": "code",
   "execution_count": 14,
   "id": "4f3eb307",
   "metadata": {},
   "outputs": [
    {
     "name": "stdout",
     "output_type": "stream",
     "text": [
      "0\n",
      "1\n",
      "2\n",
      "3\n",
      "4\n",
      "5\n",
      "6\n",
      "7\n",
      "8\n",
      "9\n",
      "10\n",
      "11\n",
      "12\n",
      "13\n",
      "14\n",
      "15\n",
      "16\n",
      "17\n",
      "18\n",
      "19\n",
      "20\n",
      "21\n",
      "22\n",
      "23\n",
      "24\n",
      "25\n",
      "26\n",
      "27\n",
      "28\n",
      "29\n",
      "30\n",
      "31\n",
      "32\n",
      "33\n",
      "34\n",
      "35\n",
      "36\n",
      "37\n",
      "38\n",
      "39\n",
      "40\n",
      "41\n",
      "42\n",
      "43\n",
      "44\n",
      "45\n",
      "46\n",
      "47\n",
      "48\n",
      "49\n",
      "50\n",
      "51\n",
      "52\n",
      "53\n",
      "54\n",
      "55\n",
      "56\n",
      "57\n",
      "58\n",
      "59\n",
      "60\n",
      "61\n",
      "62\n",
      "63\n",
      "64\n",
      "65\n",
      "66\n",
      "67\n",
      "68\n",
      "69\n",
      "70\n",
      "71\n",
      "72\n",
      "73\n",
      "74\n",
      "75\n",
      "76\n",
      "77\n",
      "78\n",
      "79\n",
      "80\n",
      "81\n",
      "82\n",
      "83\n",
      "84\n",
      "85\n",
      "86\n",
      "87\n",
      "88\n",
      "89\n",
      "90\n",
      "91\n",
      "92\n",
      "93\n",
      "94\n",
      "95\n",
      "96\n",
      "97\n",
      "98\n",
      "99\n",
      "100\n"
     ]
    }
   ],
   "source": [
    "#exiting with return\n",
    "count=0\n",
    "def fun():\n",
    "    global count\n",
    "    print(count)\n",
    "    if(count==100):\n",
    "        return\n",
    "    count+=1\n",
    "    fun()\n",
    "fun()"
   ]
  },
  {
   "cell_type": "code",
   "execution_count": 13,
   "id": "17b12223",
   "metadata": {},
   "outputs": [
    {
     "name": "stdout",
     "output_type": "stream",
     "text": [
      "0\n",
      "1\n",
      "2\n",
      "3\n",
      "4\n",
      "5\n",
      "6\n",
      "7\n",
      "8\n",
      "9\n",
      "10\n",
      "11\n",
      "12\n",
      "13\n",
      "14\n",
      "15\n",
      "16\n",
      "17\n",
      "18\n",
      "19\n",
      "20\n",
      "21\n",
      "22\n",
      "23\n",
      "24\n",
      "25\n",
      "26\n",
      "27\n",
      "28\n",
      "29\n",
      "30\n",
      "31\n",
      "32\n",
      "33\n",
      "34\n",
      "35\n",
      "36\n",
      "37\n",
      "38\n",
      "39\n",
      "40\n",
      "41\n",
      "42\n",
      "43\n",
      "44\n",
      "45\n",
      "46\n",
      "47\n",
      "48\n",
      "49\n",
      "50\n",
      "51\n",
      "52\n",
      "53\n",
      "54\n",
      "55\n",
      "56\n",
      "57\n",
      "58\n",
      "59\n",
      "60\n",
      "61\n",
      "62\n",
      "63\n",
      "64\n",
      "65\n",
      "66\n",
      "67\n",
      "68\n",
      "69\n",
      "70\n",
      "71\n",
      "72\n",
      "73\n",
      "74\n",
      "75\n",
      "76\n",
      "77\n",
      "78\n",
      "79\n",
      "80\n",
      "81\n",
      "82\n",
      "83\n",
      "84\n",
      "85\n",
      "86\n",
      "87\n",
      "88\n",
      "89\n",
      "90\n",
      "91\n",
      "92\n",
      "93\n",
      "94\n",
      "95\n",
      "96\n",
      "97\n",
      "98\n",
      "99\n",
      "100\n"
     ]
    }
   ],
   "source": [
    "#exit without return\n",
    "count=0\n",
    "def fun():\n",
    "    global count\n",
    "    print(count)\n",
    "    count+=1\n",
    "    if(count<=100):\n",
    "        fun()\n",
    "    \n",
    "fun()"
   ]
  },
  {
   "cell_type": "code",
   "execution_count": 16,
   "id": "e4944ba1",
   "metadata": {},
   "outputs": [
    {
     "name": "stdout",
     "output_type": "stream",
     "text": [
      "10\n",
      "100\n",
      "150\n"
     ]
    },
    {
     "ename": "StopIteration",
     "evalue": "",
     "output_type": "error",
     "traceback": [
      "\u001b[1;31m---------------------------------------------------------------------------\u001b[0m",
      "\u001b[1;31mStopIteration\u001b[0m                             Traceback (most recent call last)",
      "\u001b[1;32mC:\\Users\\FUTURE~1\\AppData\\Local\\Temp/ipykernel_10648/2458108975.py\u001b[0m in \u001b[0;36m<module>\u001b[1;34m\u001b[0m\n\u001b[0;32m     12\u001b[0m \u001b[0mprint\u001b[0m\u001b[1;33m(\u001b[0m\u001b[0mnext\u001b[0m\u001b[1;33m(\u001b[0m\u001b[0mf\u001b[0m\u001b[1;33m)\u001b[0m\u001b[1;33m)\u001b[0m\u001b[1;33m\u001b[0m\u001b[1;33m\u001b[0m\u001b[0m\n\u001b[0;32m     13\u001b[0m \u001b[0mprint\u001b[0m\u001b[1;33m(\u001b[0m\u001b[0mnext\u001b[0m\u001b[1;33m(\u001b[0m\u001b[0mf\u001b[0m\u001b[1;33m)\u001b[0m\u001b[1;33m)\u001b[0m\u001b[1;33m\u001b[0m\u001b[1;33m\u001b[0m\u001b[0m\n\u001b[1;32m---> 14\u001b[1;33m \u001b[0mprint\u001b[0m\u001b[1;33m(\u001b[0m\u001b[0mnext\u001b[0m\u001b[1;33m(\u001b[0m\u001b[0mf\u001b[0m\u001b[1;33m)\u001b[0m\u001b[1;33m)\u001b[0m\u001b[1;33m\u001b[0m\u001b[1;33m\u001b[0m\u001b[0m\n\u001b[0m",
      "\u001b[1;31mStopIteration\u001b[0m: "
     ]
    }
   ],
   "source": [
    "#diefference between  return and yeild(same as iterator works)\n",
    "#yeild is fror generator\n",
    "def fun():\n",
    "    var=10\n",
    "    yield var\n",
    "    var=100\n",
    "    yield var\n",
    "    var=150\n",
    "    yield var\n",
    "f=fun()\n",
    "print(next(f))\n",
    "print(next(f))\n",
    "print(next(f))\n",
    "#print(next(f))"
   ]
  },
  {
   "cell_type": "code",
   "execution_count": 17,
   "id": "06309b0b",
   "metadata": {},
   "outputs": [],
   "source": [
    "#MRO Near search "
   ]
  },
  {
   "cell_type": "code",
   "execution_count": 23,
   "id": "61c1d126",
   "metadata": {},
   "outputs": [
    {
     "name": "stdout",
     "output_type": "stream",
     "text": [
      "welcome to the server 127.89.0.6.5 subhash123\n",
      "welcom to python 127.89.0.6.5\n"
     ]
    }
   ],
   "source": [
    "class  My_Server:\n",
    "   \n",
    "    def server_login(obj):\n",
    "        print(\"welcom to python\",obj.ip)\n",
    "\n",
    "class Second_Class(My_Server):\n",
    "    def __init__(obj,ip,pwd):\n",
    "        obj.ip=ip\n",
    "        obj.pwd=pwd\n",
    "    \n",
    "    def Login(self):\n",
    "        print(\"welcome to the server\",self.ip,self.pwd)\n",
    "#my=My_Server---> just my_server refers to copy of ,y_server to my\n",
    "my=Second_Class(\"127.89.0.6.5\",\"subhash123\") #  indirectly three objects are passed object(my),two parmeter\n",
    "my.Login()\n",
    "my.server_login()"
   ]
  },
  {
   "cell_type": "code",
   "execution_count": 35,
   "id": "e8541df8",
   "metadata": {},
   "outputs": [
    {
     "name": "stdout",
     "output_type": "stream",
     "text": [
      "welcome to the server 127.89.0.6.5 subhash123\n",
      "welcom to python 127.89.0.6.5\n"
     ]
    }
   ],
   "source": [
    "#passign parameter to aprent class without super\n",
    "class  My_Server:\n",
    "    def __init__(obj,ip,pwd,country):\n",
    "        obj.ip=ip\n",
    "        obj.pwd=pwd\n",
    "        obj.country=country\n",
    "    def server_login(obj):\n",
    "        print(\"welcom to python\",obj.ip)\n",
    "\n",
    "class Second_Class(My_Server):\n",
    "    def __init__(self,ip,pwd):\n",
    "        self.ip=ip\n",
    "        self.pwd=pwd\n",
    "        My_Server.__init__(self,self.ip,self.pwd,\"india\")\n",
    "    \n",
    "    def Login(self):\n",
    "        print(\"welcome to the server\",self.ip,self.pwd)\n",
    "#my=My_Server---> just my_server refers to copy of ,y_server to my\n",
    "my=Second_Class(\"127.89.0.6.5\",\"subhash123\") #  indirectly three objects are passed object(my),two parmeter\n",
    "my.Login()\n",
    "my.server_login()"
   ]
  },
  {
   "cell_type": "code",
   "execution_count": 37,
   "id": "c6cb4978",
   "metadata": {},
   "outputs": [
    {
     "name": "stdout",
     "output_type": "stream",
     "text": [
      "welcome to the server 127.89.0.6.5 subhash123\n",
      "welcom to python 127.89.0.6.5\n"
     ]
    }
   ],
   "source": [
    "#passing parameter to parent class with super()\n",
    "class  My_Server:\n",
    "    def __init__(obj,ip,pwd,country):\n",
    "        obj.ip=ip\n",
    "        obj.pwd=pwd\n",
    "        obj.country=country\n",
    "    def server_login(obj):\n",
    "        print(\"welcom to python\",obj.ip)\n",
    "\n",
    "class Second_Class(My_Server):\n",
    "    def __init__(self,ip,pwd):\n",
    "        self.ip=ip\n",
    "        self.pwd=pwd\n",
    "        super().__init__(self.ip,self.pwd,\"india\")\n",
    "    \n",
    "    def Login(self):\n",
    "        print(\"welcome to the server\",self.ip,self.pwd)\n",
    "#my=My_Server---> just my_server refers to copy of ,y_server to my\n",
    "my=Second_Class(\"127.89.0.6.5\",\"subhash123\") #  indirectly three objects are passed object(my),two parmeter\n",
    "my.Login()\n",
    "my.server_login()"
   ]
  },
  {
   "cell_type": "code",
   "execution_count": 40,
   "id": "a58f48cd",
   "metadata": {},
   "outputs": [
    {
     "ename": "AttributeError",
     "evalue": "'B' object has no attribute 'i'",
     "output_type": "error",
     "traceback": [
      "\u001b[1;31m---------------------------------------------------------------------------\u001b[0m",
      "\u001b[1;31mAttributeError\u001b[0m                            Traceback (most recent call last)",
      "\u001b[1;32mC:\\Users\\FUTURE~1\\AppData\\Local\\Temp/ipykernel_10648/1347105121.py\u001b[0m in \u001b[0;36m<module>\u001b[1;34m\u001b[0m\n\u001b[0;32m      7\u001b[0m         \u001b[0mself\u001b[0m\u001b[1;33m.\u001b[0m\u001b[0mj\u001b[0m\u001b[1;33m=\u001b[0m\u001b[1;36m0\u001b[0m\u001b[1;33m\u001b[0m\u001b[1;33m\u001b[0m\u001b[0m\n\u001b[0;32m      8\u001b[0m \u001b[0mreference\u001b[0m\u001b[1;33m=\u001b[0m\u001b[0mB\u001b[0m\u001b[1;33m(\u001b[0m\u001b[1;36m15\u001b[0m\u001b[1;33m)\u001b[0m\u001b[1;33m\u001b[0m\u001b[1;33m\u001b[0m\u001b[0m\n\u001b[1;32m----> 9\u001b[1;33m \u001b[0mprint\u001b[0m\u001b[1;33m(\u001b[0m\u001b[0mreference\u001b[0m\u001b[1;33m.\u001b[0m\u001b[0mi\u001b[0m\u001b[1;33m)\u001b[0m\u001b[1;33m\u001b[0m\u001b[1;33m\u001b[0m\u001b[0m\n\u001b[0m\u001b[0;32m     10\u001b[0m \u001b[0mprint\u001b[0m\u001b[1;33m(\u001b[0m\u001b[0mreference\u001b[0m\u001b[1;33m.\u001b[0m\u001b[0mj\u001b[0m\u001b[1;33m)\u001b[0m\u001b[1;33m\u001b[0m\u001b[1;33m\u001b[0m\u001b[0m\n",
      "\u001b[1;31mAttributeError\u001b[0m: 'B' object has no attribute 'i'"
     ]
    }
   ],
   "source": [
    "class A:\n",
    "    def __init__(self,i=0):\n",
    "        self.i=0\n",
    "class B(A):\n",
    "    def __init__(self,j=0):\n",
    "        \n",
    "        self.j=0\n",
    "reference=B(15)\n",
    "print(reference.i)\n",
    "print(reference.j)"
   ]
  },
  {
   "cell_type": "code",
   "execution_count": 42,
   "id": "206478b2",
   "metadata": {},
   "outputs": [
    {
     "name": "stdout",
     "output_type": "stream",
     "text": [
      "2\n"
     ]
    }
   ],
   "source": [
    "class A:\n",
    "    def __init__(self,i=0):\n",
    "        self.i=0\n",
    "reference=A(15)\n",
    "reference.__dict__['age']=4\n",
    "print(len(reference.__dict__))"
   ]
  },
  {
   "cell_type": "code",
   "execution_count": 1,
   "id": "b38b4431",
   "metadata": {},
   "outputs": [
    {
     "name": "stdout",
     "output_type": "stream",
     "text": [
      "<__main__.my_server object at 0x000001F3631AE370>\n",
      "welcome 2.2.2.2\n",
      "welcome to oops 2.2.2.2 34 vab\n"
     ]
    }
   ],
   "source": [
    "class my_server:\n",
    "    def __init__(dhoni,ip,pwd):\n",
    "        dhoni.ip=ip\n",
    "        dhoni.pwd=pwd\n",
    "        print(dhoni)\n",
    "    def server_login(self):\n",
    "        print(\"welcome\",self.ip)\n",
    "\n",
    "    def hostname(dhoni):\n",
    "        print(\"welcome to oops\", dhoni.ip, dhoni.pwd)\n",
    "    def hostname(dhoni,name):\n",
    "        print(\"welcome to oops\",dhoni.ip,dhoni.pwd,name)\n",
    "my=my_server(\"2.2.2.2\",\"34\")\n",
    "my.server_login()\n",
    "my.hostname(\"vab\")\n",
    "#my.hostname() This will give an error\n"
   ]
  },
  {
   "cell_type": "code",
   "execution_count": null,
   "id": "a4d0c172",
   "metadata": {},
   "outputs": [],
   "source": []
  }
 ],
 "metadata": {
  "kernelspec": {
   "display_name": "Python 3 (ipykernel)",
   "language": "python",
   "name": "python3"
  },
  "language_info": {
   "codemirror_mode": {
    "name": "ipython",
    "version": 3
   },
   "file_extension": ".py",
   "mimetype": "text/x-python",
   "name": "python",
   "nbconvert_exporter": "python",
   "pygments_lexer": "ipython3",
   "version": "3.9.7"
  }
 },
 "nbformat": 4,
 "nbformat_minor": 5
}
